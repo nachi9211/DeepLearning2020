{
  "nbformat": 4,
  "nbformat_minor": 0,
  "metadata": {
    "colab": {
      "name": "GAN_MUSIC_Testing.ipynb",
      "provenance": [],
      "collapsed_sections": [],
      "machine_shape": "hm"
    },
    "kernelspec": {
      "name": "python3",
      "display_name": "Python 3"
    },
    "accelerator": "TPU"
  },
  "cells": [
    {
      "cell_type": "code",
      "metadata": {
        "id": "iQ4-UtbxIsw9",
        "colab_type": "code",
        "colab": {}
      },
      "source": [
        "#Pre-requisite: If the code is executed in Google Colab, download the dataset and upload it to your google drive in the same location\n",
        "#Dataset: https://drive.google.com/file/d/1vKVt7sd2f8D5aSNxoggcdHbrThHxlXx7/view?usp=sharing\n",
        "from google.colab import drive\n",
        "drive.mount('/content/drive')"
      ],
      "execution_count": 0,
      "outputs": []
    },
    {
      "cell_type": "code",
      "metadata": {
        "id": "MtVr3STlI1Uv",
        "colab_type": "code",
        "colab": {}
      },
      "source": [
        "#Required to run once per session.\n",
        "pip install librosa --upgrade"
      ],
      "execution_count": 0,
      "outputs": []
    },
    {
      "cell_type": "code",
      "metadata": {
        "id": "f8SKkFJ6Ixrj",
        "colab_type": "code",
        "colab": {
          "base_uri": "https://localhost:8080/",
          "height": 35
        },
        "outputId": "b34b6a17-17a1-4bae-b7b4-58f2ae88b26e"
      },
      "source": [
        "## Implementation of GAN\n",
        "#1. Importing required packages\n",
        "from keras.datasets import mnist\n",
        "from keras.layers import Input, Dense, Reshape, Flatten\n",
        "from keras.layers import BatchNormalization\n",
        "from keras.layers.advanced_activations import LeakyReLU, ReLU\n",
        "from keras.models import Sequential, Model\n",
        "from keras.optimizers import Adam\n",
        "import matplotlib.pyplot as plt\n",
        "import numpy as np\n",
        "import librosa\n",
        "from librosa import display\n",
        "\n",
        "#2. Constructing GAN class that contains the model for the discriminator and generator\n",
        "class MusicGAN():\n",
        "  def __init__(self):\n",
        "    self.spect_freq = 128 \n",
        "    self.spect_time = 640 \n",
        "    self.channel = 1 \n",
        "    self.img_shape = (self.spect_freq, self.spect_time, self.channel)\n",
        "    self.noise_dimension = 64\n",
        "    self.discriminator = self.build_discriminator()\n",
        "    self.discriminator.compile(loss='binary_crossentropy',\n",
        "                                optimizer=Adam(0.0002, 0.5),\n",
        "                                metrics=['accuracy'])\n",
        "    self.generator = self.build_generator()\n",
        "    z = Input(shape=(self.noise_dimension,))\n",
        "    img = self.generator(z)\n",
        "    self.discriminator.trainable = False\n",
        "    validity = self.discriminator(img)\n",
        "    self.combined = Model(z, validity)\n",
        "    self.combined.compile(loss='binary_crossentropy', optimizer= Adam(0.0001, 0.5))\n",
        "\n",
        "  #3. Setting up generator model\n",
        "  def build_generator(self):\n",
        "      model = Sequential()\n",
        "      momentum = 0.8\n",
        "      model.add(Dense(256, input_dim=self.noise_dimension))\n",
        "      model.add(LeakyReLU(alpha=0.2))\n",
        "      model.add(BatchNormalization(momentum=momentum))\n",
        "      model.add(Dense(512))\n",
        "      model.add(LeakyReLU(alpha=0.2))\n",
        "      model.add(BatchNormalization(momentum=momentum))\n",
        "      model.add(Dense(1024))\n",
        "      model.add(LeakyReLU(alpha=0.2))\n",
        "      model.add(BatchNormalization(momentum=momentum))\n",
        "      model.add(Dense(2048))\n",
        "      model.add(LeakyReLU(alpha=0.2))\n",
        "      model.add(BatchNormalization(momentum=momentum))\n",
        "      model.add(Dense(4096))\n",
        "      model.add(LeakyReLU(alpha=0.2))\n",
        "      model.add(BatchNormalization(momentum=momentum))\n",
        "      model.add(Dense(np.prod(self.img_shape), activation='tanh'))\n",
        "      model.add(Reshape(self.img_shape))\n",
        "      input_noise = Input(shape=(self.noise_dimension,))\n",
        "      img = model(input_noise)\n",
        "      model.summary()\n",
        "      return Model(input_noise, img)\n",
        "\n",
        "  #4. Setting up discriminator model\n",
        "  def build_discriminator(self):\n",
        "      model = Sequential()\n",
        "      model.add(Flatten(input_shape=self.img_shape))\n",
        "      model.add(Dense(4096))\n",
        "      model.add(LeakyReLU(alpha=0.2))\n",
        "      model.add(Dense(2048))\n",
        "      model.add(LeakyReLU(alpha=0.2))\n",
        "      model.add(Dense(1024))\n",
        "      model.add(LeakyReLU(alpha=0.2))\n",
        "      model.add(Dense(512))\n",
        "      model.add(LeakyReLU(alpha=0.2))\n",
        "      model.add(Dense(256))\n",
        "      model.add(LeakyReLU(alpha=0.2))\n",
        "      model.add(Dense(1, activation='sigmoid'))\n",
        "      img = Input(shape=self.img_shape)\n",
        "      validity = model(img)\n",
        "      model.summary()\n",
        "      return Model(img, validity)\n",
        "\n",
        "  #5. Defining the training parameters\n",
        "  def train(self, epochs, batch_size, sample_interval):\n",
        "      '''\n",
        "      Usage documentation can be found here: https://www.tensorflow.org/api_docs/python/tf/keras/datasets/mnist/load_data\n",
        "      Since this is a unsupervised learning and we wanted only the training images, we ignored to load other x_test, y_train and y_test.\n",
        "      '''\n",
        "      train_data = np.load('/content/drive/My Drive/DL/GAN/shuffled_train.npz')\n",
        "      self.x_train_rot = train_data['arr_0']\n",
        "      size = 999\n",
        "      self.x_train = np.empty((size,self.spect_freq,self.spect_time))\n",
        "      for i in range(size):\n",
        "          self.x_train[i,:,:] = np.rot90(self.x_train_rot[i,:,:],3)\n",
        "      print(self.x_train.shape) \n",
        "      self.x_train = self.x_train.reshape(-1, self.spect_freq,self.spect_time, 1).astype(np.float32)\n",
        "      \n",
        "      \n",
        "      print(\"input size\")\n",
        "      print(self.x_train.shape)\n",
        "      valid = np.ones((batch_size, 1))\n",
        "      fake = np.zeros((batch_size, 1))\n",
        "      for epoch in range(epochs):\n",
        "          idx = np.random.randint(0, self.x_train.shape[0], batch_size)\n",
        "          imgs = self.x_train[idx]\n",
        "          print(\"input training size\")\n",
        "          print(imgs.shape)\n",
        "          input_noise = np.random.normal(0, 1, (batch_size, self.noise_dimension))\n",
        "          g_loss = self.combined.train_on_batch(input_noise, valid)\n",
        "          gen_imgs = self.generator.predict(input_noise)\n",
        "          d_loss_real = self.discriminator.train_on_batch(imgs, valid)\n",
        "          d_loss_fake = self.discriminator.train_on_batch(gen_imgs, fake)\n",
        "          d_loss = 0.5 * np.add(d_loss_real, d_loss_fake)\n",
        "          print(\"%d [D loss: %f, acc.: %.2f%%] [G loss: %f]\" % (epoch, d_loss[0], 100 * d_loss[1], g_loss))\n",
        "          if epoch % sample_interval == 0:\n",
        "            self.generate_spectrogram(input_noise,epoch)\n",
        "\n",
        "  #6. Generating new numbers at given sample interval\t\t\n",
        "  def generate_spectrogram(self, input_noise, epoch):\n",
        "      predictions = gan.generator.predict(input_noise)\n",
        "      print(\"generated output size\")\n",
        "      print(predictions.shape)\n",
        "      print(\"Reshaping\")\n",
        "      generated_seq = np.reshape(predictions[0], (self.spect_freq,self.spect_time))\n",
        "      print(generated_seq.shape)\n",
        "      self.convert_to_audio(generated_seq, epoch)\n",
        "      librosa.display.specshow(generated_seq, y_axis='mel', fmax=8000, x_axis='time')\n",
        "      plt.colorbar(format='%+2.0f dB')\n",
        "      plt.savefig(\"/content/drive/My Drive/DL/GAN/Results/GAN_MUSIC/GeneratedOutputForEpoch-%d.png\" % epoch)\n",
        "      plt.show()\n",
        "      plt.close()\n",
        "  #7. Generate audio sample from spectogram\n",
        "  def convert_to_audio (self, dbspectogram, epoch):\n",
        "      # db_to_power(S_db) ~= ref * 10.0**(S_db / 10)\n",
        "      audio_spectogram = librosa.core.db_to_power(dbspectogram)\n",
        "      #Converting spectogram into time series array\n",
        "      audio_timeSeries = librosa.feature.inverse.mel_to_audio(audio_spectogram, sr = 22050, hop_length=1024)\n",
        "      #Converting time series array into audio file\n",
        "      audiofile_path = \"/content/drive/My Drive/DL/GAN/Results/GAN_MUSIC/GeneratedMusicForEpoch-%d.wav\" % epoch\n",
        "      librosa.output.write_wav(audiofile_path, audio_timeSeries, sr=22050, norm=False)"
      ],
      "execution_count": 3,
      "outputs": [
        {
          "output_type": "stream",
          "text": [
            "Using TensorFlow backend.\n"
          ],
          "name": "stderr"
        }
      ]
    },
    {
      "cell_type": "code",
      "metadata": {
        "id": "e3_8QIyIJE-i",
        "colab_type": "code",
        "colab": {
          "base_uri": "https://localhost:8080/",
          "height": 72
        },
        "outputId": "27afcaa3-575a-4c3a-84dd-ba4bcd14ea33"
      },
      "source": [
        "#7. Running both the models with specified epochs, batch size and sample intervals (to less generated samples, the sample_interval size should be increased)\n",
        "gan = MusicGAN()    \n",
        "gan.train(epochs=10000, batch_size=32, sample_interval=50)"
      ],
      "execution_count": 0,
      "outputs": [
        {
          "output_type": "stream",
          "text": [
            "43 [D loss: 28.616009, acc.: 71.88%] [G loss: 40.393307]\n",
            "input training size\n",
            "(32, 128, 640, 1)\n"
          ],
          "name": "stdout"
        }
      ]
    }
  ]
}