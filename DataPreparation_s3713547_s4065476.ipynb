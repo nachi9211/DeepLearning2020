{
  "nbformat": 4,
  "nbformat_minor": 0,
  "metadata": {
    "colab": {
      "name": "DataPreparation.ipynb",
      "provenance": [],
      "collapsed_sections": []
    },
    "kernelspec": {
      "name": "python3",
      "display_name": "Python 3"
    },
    "accelerator": "TPU"
  },
  "cells": [
    {
      "cell_type": "code",
      "metadata": {
        "id": "11ow_q6a2kcc",
        "colab_type": "code",
        "colab": {}
      },
      "source": [
        "import os\n",
        "import numpy as np\n",
        "import librosa\n",
        "import librosa.display\n",
        "import pandas as pd\n",
        "import matplotlib.pyplot as plt\n",
        "from google.colab import drive\n"
      ],
      "execution_count": 0,
      "outputs": []
    },
    {
      "cell_type": "code",
      "metadata": {
        "id": "jmZiJrI92loA",
        "colab_type": "code",
        "outputId": "cf4bb3cd-2a4e-49d9-b128-58ae34598e9e",
        "colab": {
          "base_uri": "https://localhost:8080/",
          "height": 34
        }
      },
      "source": [
        "drive.mount(\"/content/drive\", force_remount=True)\n",
        "fma_dir = '/content/drive/My Drive/fma_small'"
      ],
      "execution_count": 0,
      "outputs": [
        {
          "output_type": "stream",
          "text": [
            "Mounted at /content/drive\n"
          ],
          "name": "stdout"
        }
      ]
    },
    {
      "cell_type": "code",
      "metadata": {
        "id": "dS_gT58150av",
        "colab_type": "code",
        "colab": {}
      },
      "source": [
        "def get_mel_spectrogram(f):\n",
        "  y, sr = librosa.load(f)\n",
        "  ms = librosa.feature.melspectrogram(y=y, sr=sr,n_fft=2048, hop_length=1024)\n",
        "  ms = librosa.power_to_db(ms, ref=np.max)\n",
        "  return ms.T"
      ],
      "execution_count": 0,
      "outputs": []
    },
    {
      "cell_type": "code",
      "metadata": {
        "id": "BlMAk22ZVu1L",
        "colab_type": "code",
        "outputId": "c14f6c52-785a-4ad2-9db6-95ef6ed522e9",
        "colab": {
          "base_uri": "https://localhost:8080/",
          "height": 72
        }
      },
      "source": [
        "trackdata = pd.read_csv('/content/drive/My Drive/tracks.csv')\n",
        "headers = trackdata.iloc[0]\n",
        "headers[0] = 'track_id'\n",
        "trackdata.columns = headers\n",
        "trackdata = trackdata.iloc[2:]\n",
        "trackdata = trackdata[trackdata['subset']=='small']\n",
        "instrumental_ids = trackdata[trackdata['genre_top']=='Instrumental']['track_id']      #change genre according to requirement. Refer to FMA dataset metadata.\n",
        "instrumental_filenames = ['{:06d}'.format(int(ids)) for ids in instrumental_ids]\n"
      ],
      "execution_count": 0,
      "outputs": [
        {
          "output_type": "stream",
          "text": [
            "/usr/local/lib/python3.6/dist-packages/IPython/core/interactiveshell.py:2718: DtypeWarning: Columns (0,1,5,6,8,12,18,20,21,22,24,33,34,38,39,44,47,49) have mixed types.Specify dtype option on import or set low_memory=False.\n",
            "  interactivity=interactivity, compiler=compiler, result=result)\n"
          ],
          "name": "stderr"
        }
      ]
    },
    {
      "cell_type": "code",
      "metadata": {
        "id": "8L_3W18n4HAr",
        "colab_type": "code",
        "outputId": "405818eb-13cf-405b-94bb-85dfe5742aa0",
        "colab": {
          "base_uri": "https://localhost:8080/",
          "height": 52
        }
      },
      "source": [
        "filenodes = []\n",
        "for _, direc, files in os.walk(fma_dir):\n",
        "  if direc == []:\n",
        "    filenodes.extend(int(filex[:-4]) for filex in files)\n",
        "    filenamestr = ['{:06d}'.format(filenode) for filenode in filenodes]\n",
        "    filepaths = [os.path.join(fma_dir, fps[:3], fps + '.mp3') for fps in instrumental_filenames]\n",
        "   #filepaths = [os.path.join(fma_dir, fps[:3], fps + '.mp3') for fps in filenamestr]\n",
        "print(len(filepaths))\n",
        "\n",
        "spectrogram_data = np.empty((0, 640, 128))\n",
        "complete_spectrogram_data = np.empty((0, 640, 128))\n",
        "count = 0\n",
        "for f in filepaths:\n",
        "  try:\n",
        "    count += 1\n",
        "    ms = get_mel_spectrogram(f)\n",
        "    ms = ms[:640, :] #truncate length to match size(the larger dimension is for time, and we end up trimming all files to same time)\n",
        "    spectrogram_data = np.append(spectrogram_data, [ms], axis=0)\n",
        "    complete_spectrogram_data = np.append(complete_spectrogram_data, [ms], axis=0)\n",
        "    if count%1000==0:\n",
        "      strname = '/content/drive/My Drive/FilteredDatasets/complete_train_small_fma_at_'+str(count)\n",
        "      np.savez(strname, spectrogram_data)\n",
        "      spectrogram_data = np.empty((0, 640, 128))\n",
        "  except:\n",
        "    print('Failed: ',count)\n",
        "    continue\n",
        "\n",
        "print(len(complete_spectrogram_data))\n",
        "\n",
        "np.savez('/content/drive/My Drive/FilteredDatasets/complete_train_small_fma_complete', complete_spectrogram_data)\n"
      ],
      "execution_count": 0,
      "outputs": [
        {
          "output_type": "stream",
          "text": [
            "1000\n",
            "1000\n"
          ],
          "name": "stdout"
        }
      ]
    },
    {
      "cell_type": "code",
      "metadata": {
        "id": "UWC0enBqiCK8",
        "colab_type": "code",
        "colab": {}
      },
      "source": [
        ""
      ],
      "execution_count": 0,
      "outputs": []
    }
  ]
}